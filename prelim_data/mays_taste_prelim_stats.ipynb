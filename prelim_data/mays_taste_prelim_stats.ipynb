{
 "cells": [
  {
   "cell_type": "markdown",
   "id": "a3282643",
   "metadata": {},
   "source": [
    "# May's Taste Preliminary Youtube Video Statistics - May 26, 2022"
   ]
  },
  {
   "cell_type": "markdown",
   "id": "37f633e1",
   "metadata": {},
   "source": [
    "The purpose of this notebook is to use the preliminary data (view_count per vid, like_count per vid, and comment_count per vid) to help make an informed determination on the focus of analysis. To begin, a whisker plot will be constructed based on views to determine if there are potential outliers and get an overview of the quartiles. "
   ]
  },
  {
   "cell_type": "markdown",
   "id": "893563f4",
   "metadata": {},
   "source": [
    "### Importing Libaries"
   ]
  },
  {
   "cell_type": "code",
   "execution_count": 1,
   "id": "dfb4f6b1",
   "metadata": {},
   "outputs": [],
   "source": [
    "import numpy as np\n",
    "import pandas as pd\n",
    "import matplotlib.pyplot as plt\n",
    "import matplotlib.dates as mpl_dates\n",
    "import seaborn as sns\n",
    "import warnings\n"
   ]
  },
  {
   "cell_type": "markdown",
   "id": "7fab730b",
   "metadata": {},
   "source": [
    "### Adjusting Columns"
   ]
  },
  {
   "cell_type": "code",
   "execution_count": 59,
   "id": "f30ffc45",
   "metadata": {},
   "outputs": [
    {
     "data": {
      "text/plain": [
       "Index(['video_id', 'video_title', 'view_count', 'like_count', 'comment_count'], dtype='object')"
      ]
     },
     "execution_count": 59,
     "metadata": {},
     "output_type": "execute_result"
    }
   ],
   "source": [
    "df = pd.read_csv('mays_taste_yt.csv', parse_dates=['upload_date'], index_col='upload_date')\n",
    "\n",
    "#removing the preexisting index_col\n",
    "df.drop(df.filter(regex=\"Unname\"),axis=1, inplace=True)\n",
    "df.columns\n",
    "\n"
   ]
  },
  {
   "cell_type": "markdown",
   "id": "b0a23840",
   "metadata": {},
   "source": [
    "### View_Count Statistics"
   ]
  },
  {
   "cell_type": "code",
   "execution_count": 61,
   "id": "f47f21f1",
   "metadata": {
    "scrolled": true
   },
   "outputs": [
    {
     "data": {
      "text/plain": [
       "count       134.000000\n",
       "mean       3053.671642\n",
       "std       10898.915993\n",
       "min         101.000000\n",
       "25%         483.500000\n",
       "50%         838.500000\n",
       "75%        1286.750000\n",
       "max      102552.000000\n",
       "Name: view_count, dtype: float64"
      ]
     },
     "execution_count": 61,
     "metadata": {},
     "output_type": "execute_result"
    }
   ],
   "source": [
    "df['view_count'].describe()"
   ]
  },
  {
   "cell_type": "markdown",
   "id": "1efbf157",
   "metadata": {},
   "source": [
    "##### Comments:\n",
    "The description indicates that the data does not follow a normal distribution but rather a right skewed distribution due to the mean of 3054 being greater than the median of 839 rounded to the nearest whole number. This is due to the presents of multiple outliers (suggested by the standard deviation of 10999 rounded to the nearest whole number) and thus interquartile ranges are a better option in analysis. \n",
    "\n",
    "For the following charts the median will be used as a baseline for comparisons sake. However, the outliers, given that the data is completely accurate, will be kept and researched as to why those particular videos received a signficantly larger reception than the majority of videos. "
   ]
  },
  {
   "cell_type": "markdown",
   "id": "ed451940",
   "metadata": {},
   "source": [
    "### Whisker Plot of View_Count"
   ]
  },
  {
   "cell_type": "code",
   "execution_count": 65,
   "id": "bf389348",
   "metadata": {},
   "outputs": [
    {
     "data": {
      "image/png": "[encoded data removed]",
      "text/plain": [
       "<Figure size 432x288 with 1 Axes>"
      ]
     },
     "metadata": {
      "needs_background": "light"
     },
     "output_type": "display_data"
    }
   ],
   "source": [
    "y = df['view_count']\n",
    "w_plot=sns.boxplot(y=y, showfliers=False)\n",
    "plt.title('View Count')\n",
    "plt.xlabel('Videos')\n",
    "plt.show()"
   ]
  },
  {
   "cell_type": "markdown",
   "id": "6363ef1f",
   "metadata": {},
   "source": [
    "##### Comments:\n",
    "The box plot above was constructed with showfliers off, which means that the outliers are part of the construction of the box plot, but are not present on the graph because it makes the graph unreadable. The reason why outliers were not removed from the data set is because there are a significant amount of them, which may indicate in this specific case some pattern that may have lead to those outlier videos to be more successful that the vast majority. "
   ]
  },
  {
   "cell_type": "markdown",
   "id": "79590089",
   "metadata": {},
   "source": [
    "### Average View Count per Video Upload Date in Each Month within Each Year\n"
   ]
  },
  {
   "cell_type": "code",
   "execution_count": 10,
   "id": "956cfe4d",
   "metadata": {},
   "outputs": [
    {
     "data": {
      "text/html": [
       "<div>\n",
       "<style scoped>\n",
       "    .dataframe tbody tr th:only-of-type {\n",
       "        vertical-align: middle;\n",
       "    }\n",
       "\n",
       "    .dataframe tbody tr th {\n",
       "        vertical-align: top;\n",
       "    }\n",
       "\n",
       "    .dataframe thead th {\n",
       "        text-align: right;\n",
       "    }\n",
       "</style>\n",
       "<table border=\"1\" class=\"dataframe\">\n",
       "  <thead>\n",
       "    <tr style=\"text-align: right;\">\n",
       "      <th>month</th>\n",
       "      <th>January</th>\n",
       "      <th>February</th>\n",
       "      <th>March</th>\n",
       "      <th>April</th>\n",
       "      <th>May</th>\n",
       "      <th>June</th>\n",
       "      <th>July</th>\n",
       "      <th>August</th>\n",
       "      <th>September</th>\n",
       "      <th>October</th>\n",
       "      <th>November</th>\n",
       "      <th>December</th>\n",
       "    </tr>\n",
       "    <tr>\n",
       "      <th>year</th>\n",
       "      <th></th>\n",
       "      <th></th>\n",
       "      <th></th>\n",
       "      <th></th>\n",
       "      <th></th>\n",
       "      <th></th>\n",
       "      <th></th>\n",
       "      <th></th>\n",
       "      <th></th>\n",
       "      <th></th>\n",
       "      <th></th>\n",
       "      <th></th>\n",
       "    </tr>\n",
       "  </thead>\n",
       "  <tbody>\n",
       "    <tr>\n",
       "      <th>2020</th>\n",
       "      <td>NaN</td>\n",
       "      <td>NaN</td>\n",
       "      <td>NaN</td>\n",
       "      <td>NaN</td>\n",
       "      <td>94.75</td>\n",
       "      <td>1430.333333</td>\n",
       "      <td>71.468750</td>\n",
       "      <td>96.527778</td>\n",
       "      <td>467.666667</td>\n",
       "      <td>177.472222</td>\n",
       "      <td>2915.638889</td>\n",
       "      <td>238.983471</td>\n",
       "    </tr>\n",
       "    <tr>\n",
       "      <th>2021</th>\n",
       "      <td>951.333333</td>\n",
       "      <td>115.875</td>\n",
       "      <td>323.22449</td>\n",
       "      <td>476.472222</td>\n",
       "      <td>163.25</td>\n",
       "      <td>328.777778</td>\n",
       "      <td>281.333333</td>\n",
       "      <td>531.250000</td>\n",
       "      <td>770.080000</td>\n",
       "      <td>162.640000</td>\n",
       "      <td>450.440000</td>\n",
       "      <td>404.500000</td>\n",
       "    </tr>\n",
       "    <tr>\n",
       "      <th>2022</th>\n",
       "      <td>541.687500</td>\n",
       "      <td>304.500</td>\n",
       "      <td>181.24000</td>\n",
       "      <td>209.777778</td>\n",
       "      <td>108.25</td>\n",
       "      <td>NaN</td>\n",
       "      <td>NaN</td>\n",
       "      <td>NaN</td>\n",
       "      <td>NaN</td>\n",
       "      <td>NaN</td>\n",
       "      <td>NaN</td>\n",
       "      <td>NaN</td>\n",
       "    </tr>\n",
       "  </tbody>\n",
       "</table>\n",
       "</div>"
      ],
      "text/plain": [
       "month     January  February      March       April     May         June  \\\n",
       "year                                                                      \n",
       "2020          NaN       NaN        NaN         NaN   94.75  1430.333333   \n",
       "2021   951.333333   115.875  323.22449  476.472222  163.25   328.777778   \n",
       "2022   541.687500   304.500  181.24000  209.777778  108.25          NaN   \n",
       "\n",
       "month        July      August   September     October     November    December  \n",
       "year                                                                            \n",
       "2020    71.468750   96.527778  467.666667  177.472222  2915.638889  238.983471  \n",
       "2021   281.333333  531.250000  770.080000  162.640000   450.440000  404.500000  \n",
       "2022          NaN         NaN         NaN         NaN          NaN         NaN  "
      ]
     },
     "execution_count": 10,
     "metadata": {},
     "output_type": "execute_result"
    }
   ],
   "source": [
    "df1 = df.copy()\n",
    "df1['month'] = df1.index.strftime('%B')\n",
    "categories = ['January', 'February', 'March', 'April', 'May', 'June',\n",
    "        'July', 'August', 'September', 'October', 'November',\n",
    "        'December'  \n",
    "        ]\n",
    "\n",
    "#to order the months chronologically\n",
    "df1['month'] = pd.Categorical(df1.month, categories=categories, ordered=True)\n",
    "df1['year'] = df1.index.year\n",
    "\n",
    "#gets the mean views based on month uploaded\n",
    "df_mean = df1.groupby(['year', 'month'], sort=False)['view_count'].mean()\n",
    "df_mean = df_mean.unstack('month')\n",
    "\n",
    "#gets the number of uploaded videos for that month\n",
    "df_vid = df1.groupby(['year', 'month'], sort=False)['view_count'].count()\n",
    "df_vid = df_vid.unstack('month')\n",
    "\n",
    "#gets the mean views based on month uploaded per video\n",
    "df_bar = df_mean.div(df_vid)\n",
    "\n",
    "df_bar"
   ]
  },
  {
   "cell_type": "code",
   "execution_count": 55,
   "id": "50609728",
   "metadata": {},
   "outputs": [
    {
     "data": {
      "image/png": "[encoded data removed]",
      "text/plain": [
       "<Figure size 720x432 with 1 Axes>"
      ]
     },
     "metadata": {
      "needs_background": "light"
     },
     "output_type": "display_data"
    }
   ],
   "source": [
    "v_plt=df_bar.plot.bar(figsize=(10,6), ylabel='Average Views', xlabel='Year')\n",
    "\n",
    "plt.title('Average View Count per Video Upload Date by Month/Year')\n",
    "\n",
    "# add median to graph\n",
    "median=df['view_count'].median()\n",
    "v_plt.axhline(median, color='purple', linestyle='--')\n",
    "\n",
    "\n",
    "plt.show()"
   ]
  },
  {
   "cell_type": "markdown",
   "id": "40409ba1",
   "metadata": {},
   "source": [
    "The above graph was constructed to give a general overview of the relationship between upload date month and total views. Ideally, with all variables controlled for (such as content), there should be a positive relationship between the later a date is uploaded to the total amount of views it accrues. In this case, it is not (although there is some semblence of that relationship in 2022). With the depicted little to no relationship, there must be other factors affecting or significantly affecting the viewership. Possible factors may include video content, duration, video quality or film technique, and engagement. Of course each of these factors may in conjunction with month uploaded affect the overall viewship, and this matter will be explored more deeply when the major factors are determined. \n",
    "\n",
    "Additionally, there are other factors that are difficult to measure that will not be addressed in this analysis, such as the accessibility of the videos to the masses that is determined by the youtube algorithim. \n",
    "\n"
   ]
  },
  {
   "cell_type": "markdown",
   "id": "36c172d3",
   "metadata": {},
   "source": [
    "### Like_Count Statistics"
   ]
  },
  {
   "cell_type": "code",
   "execution_count": 95,
   "id": "35b48d64",
   "metadata": {},
   "outputs": [
    {
     "data": {
      "text/plain": [
       "count    134.000000\n",
       "mean      84.044776\n",
       "std      123.865004\n",
       "min        8.000000\n",
       "25%       48.000000\n",
       "50%       62.500000\n",
       "75%       77.000000\n",
       "max      994.000000\n",
       "Name: like_count, dtype: float64"
      ]
     },
     "execution_count": 95,
     "metadata": {},
     "output_type": "execute_result"
    }
   ],
   "source": [
    "df['like_count'].describe()"
   ]
  },
  {
   "cell_type": "markdown",
   "id": "5d4df266",
   "metadata": {},
   "source": [
    "### Whiskerplot of Like_Count"
   ]
  },
  {
   "cell_type": "code",
   "execution_count": 100,
   "id": "ce8324ae",
   "metadata": {},
   "outputs": [
    {
     "data": {
      "image/png": "[encoded data removed]",
      "text/plain": [
       "<Figure size 432x288 with 1 Axes>"
      ]
     },
     "metadata": {
      "needs_background": "light"
     },
     "output_type": "display_data"
    }
   ],
   "source": [
    "sns.boxplot(y=df['like_count'], showfliers=False)\n",
    "plt.title('Like Count')\n",
    "plt.xlabel('Videos')\n",
    "plt.show()"
   ]
  },
  {
   "cell_type": "markdown",
   "id": "82440543",
   "metadata": {},
   "source": [
    "### Average View/Like Ratio per Video Upload Date in Each Month within Each Year"
   ]
  },
  {
   "cell_type": "code",
   "execution_count": 96,
   "id": "c04a6efc",
   "metadata": {},
   "outputs": [
    {
     "data": {
      "text/plain": [
       "count    25.000000\n",
       "mean     26.602784\n",
       "std      17.729047\n",
       "min       4.418367\n",
       "25%      14.043011\n",
       "50%      23.534545\n",
       "75%      34.934827\n",
       "max      84.037630\n",
       "dtype: float64"
      ]
     },
     "execution_count": 96,
     "metadata": {},
     "output_type": "execute_result"
    }
   ],
   "source": [
    "# using the previous dataframe that accounted for the month and the year\n",
    "\n",
    "# reusing the df_bar that determined the average views per video and creating a new variable to store the average likes and comments\n",
    "df_likes = df1.groupby(['month', 'year'], sort=False)['like_count'].mean()\n",
    "\n",
    "df_li_vi = df_mean.unstack().div(df_likes)\n",
    "df_li_vi.describe()"
   ]
  },
  {
   "cell_type": "code",
   "execution_count": 93,
   "id": "f8c8a278",
   "metadata": {},
   "outputs": [
    {
     "data": {
      "image/png": "[encoded data removed]",
      "text/plain": [
       "<Figure size 720x720 with 2 Axes>"
      ]
     },
     "metadata": {
      "needs_background": "light"
     },
     "output_type": "display_data"
    }
   ],
   "source": [
    "fig,(ax1,ax2)=plt.subplots(nrows=2,ncols=1)\n",
    "# previous graph\n",
    "ax1=df_bar.plot.bar(figsize=(10,10), ax=ax1,ylabel='Average Views', xlabel='Year')\n",
    "ax1.title.set_text('Average View Count per Video Upload Date by Month/Year')\n",
    "\n",
    "\n",
    "# current graph\n",
    "ax2=df_li_vi.unstack(level=0).plot.bar(figsize=(10,10), ax=ax2, ylabel='Average Views per (Like * Video)', xlabel='Year')\n",
    "ax2.title.set_text('Average Views per (Like * Video)')\n",
    "\n",
    "# adjust spacing between subplots\n",
    "plt.subplots_adjust(hspace=.3)\n",
    "\n",
    "plt.show()"
   ]
  },
  {
   "cell_type": "markdown",
   "id": "c3e64b28",
   "metadata": {},
   "source": [
    "##### Comments:\n",
    "This graph is to be used in conjunction to the above graph to facilitate the deterimination of potential factors to investigate in the matter of viewer engagement. In this case, generally (with the exception of May 2020 and December 2020), the lower the average view count the higher the likes per view or in this case the lower the view per likes. This indicates that there may be a small group of loyal viewers who consistently engage with the videos. \n",
    "\n",
    "It may be beneficial to explore the data concerning percentage of subscribers that engage to see if the sizable majority that are interacting with the video are indeed loyal followers and strategize ways to increase non-loyal engagement. "
   ]
  },
  {
   "cell_type": "markdown",
   "id": "94c32860",
   "metadata": {},
   "source": [
    "### Next Steps\n",
    "Given there are 134 videos, it would be reasonable to proceed in looking for commonalities within particular set groups of videos and compare them with the other groups. For this analysis, there will be three groups that will be compared to one another in each of two characteristic groups. The first characteristic group will be based on viewship and the second will be based on likes. As far as the set of groups is concerned, there will be three for each characterstic group. The set groups will be determined based on characteristic group as follows: top 10, middle 10, and bottom 10.\n",
    "\n",
    "The purpose of this is to make relatively quick inferences between groups that will be further evaluationed and dive into a more comprehensive set of video characteristics such as monetization patterns, subscriber engagement, and etc. "
   ]
  },
  {
   "cell_type": "markdown",
   "id": "32ec09ce",
   "metadata": {},
   "source": [
    "### View_Count Group"
   ]
  },
  {
   "cell_type": "code",
   "execution_count": 131,
   "id": "1657affc",
   "metadata": {},
   "outputs": [
    {
     "name": "stdout",
     "output_type": "stream",
     "text": [
      "Top 10:\n",
      "upload_date\n",
      "2020-11-07               宁夏清炖羊肉（家庭版）汤汁鲜美、羊肉软烂、无膻味诀窍 Stewed Lamb\n",
      "2021-01-25    烤紅豆年糕, 高颜值外表酥脆香甜软糯的年糕，只要三个步骤，小白也不会失败的配方 Baked ...\n",
      "2020-06-10    芝麻椒盐酥餅,（芝麻椒盐酥皮月饼），两招教会你做各种各样的酥皮类甜点，初学者一看就会 Cri...\n",
      "2020-12-11          甜菜这样做最好吃，没有土腥味，大人小孩都喜歡吃的美味烤甜菜 Roasted Beets\n",
      "2021-09-18    自制腌咸鸡蛋，无需白酒也能腌出100%的个个翻沙流油的咸鸡蛋，方法超级简单，只需三个步骤，一...\n",
      "2020-09-07    网红人气零食——红枣夹核桃仁，不用去买，自己动手做更放心、更好吃，做法非常简单一看就会 ｜J...\n",
      "2021-04-12    用这三招就可以判断黑枸杞的真假 Three ways to distinguish real...\n",
      "2021-01-03    香蕉煎着吃更美味，10 分钟的健康早餐香煎香蕉片，一大盘吃不夠 | Pan Fried Ci...\n",
      "2021-04-03                   Best Homemade Spring Rolls 春卷的改进做法\n",
      "2021-03-05    小米粥最养胃、最好喝的做法，胃酸过多连喝一周就好了，小米和水的比例，用冷水还是热水煮粥？哪个...\n",
      "Name: video_title, dtype: object\n",
      "\n",
      "Middle 10:\n",
      "upload_date\n",
      "2022-03-19    French Toast in 5 minutes | French Toast for B...\n",
      "2021-09-08    Limelight Hydrangea 1 Year After 去年九月第一次种绣球花今年...\n",
      "2021-07-12                    简简单单的夏日开胃小菜｜涼拌酸辣萝卜丝 ｜Radish Salad\n",
      "2021-10-08    南瓜发面葱油饼Pumpkin Scallion Pancake Step By Step |...\n",
      "2021-10-11    Crispy and Tender Potato Pancakes - Very Easy ...\n",
      "2020-12-30    10分钟轻松搞定雪花酥，零失败配方 How to Make Snowflake Crisp ...\n",
      "2020-10-04        Biscotti | Walnuts Biscotti | 核桃脆饼 | 牛油果蔓越莓配方\n",
      "2021-10-27    No machine ! Very Easy Way to Make  Crunchy Ch...\n",
      "2022-03-26                             Sweet Acacia Tree Flower\n",
      "2021-07-04                                  American Baby Robin\n",
      "Name: video_title, dtype: object\n",
      "\n",
      "Bottom 10:\n",
      "upload_date\n",
      "2020-11-15                                  Funny Apple | 有趣的苹果\n",
      "2020-06-13                      Crunchy fruit ice cream 香脆水果冰淇淋\n",
      "2020-12-07    One Huge Ganoderma In My Backyard 后院的树根上长出一个硕大的灵芝\n",
      "2020-12-27    Aloe Vera Blooms During Christmas In My Garden...\n",
      "2020-07-21       Avocado  Salsa— An Easy Delicious Recipe 酪梨莎莎酱\n",
      "2020-12-01    How to Make Muddy Buddies | Easy &amp; Quick R...\n",
      "2020-05-18    Easy Banana Muffin Lower Fat, Reduced Sugar 低糖...\n",
      "2020-05-29                              羽衣甘蓝脆片 Crisp Kale Chips\n",
      "2020-05-23    Sausage  Broccoli  Egg Casserole 香肠鸡蛋西兰花 Casse...\n",
      "2022-05-24    If you have a baguette at home, you can make g...\n",
      "Name: video_title, dtype: object\n"
     ]
    }
   ],
   "source": [
    "df2=df.copy()\n",
    "df2=df2.sort_values('view_count', ascending=False)\n",
    "\n",
    "# top 10\n",
    "view_top10=df2.iloc[0:10]\n",
    "view_top10_names=view_top10['video_title']\n",
    "\n",
    "# middle 10\n",
    "view_middle10=df2.iloc[62:72]\n",
    "view_middle10_names=view_middle10['video_title']\n",
    "\n",
    "# bottom 10\n",
    "view_bottom10=df2.iloc[-10:]\n",
    "view_bottom10_names=view_bottom10['video_title']\n",
    "\n",
    "view_order=f\"Top 10:\\n{view_top10_names}\\n\\nMiddle 10:\\n{view_middle10_names}\\n\\nBottom 10:\\n{view_bottom10_names}\"\n",
    "print(view_order)"
   ]
  },
  {
   "cell_type": "markdown",
   "id": "58571801",
   "metadata": {},
   "source": [
    "### Like_Count Group"
   ]
  },
  {
   "cell_type": "code",
   "execution_count": 138,
   "id": "08986f21",
   "metadata": {},
   "outputs": [
    {
     "name": "stdout",
     "output_type": "stream",
     "text": [
      "Top 10:\n",
      "upload_date\n",
      "2020-11-07               宁夏清炖羊肉（家庭版）汤汁鲜美、羊肉软烂、无膻味诀窍 Stewed Lamb\n",
      "2021-01-25    烤紅豆年糕, 高颜值外表酥脆香甜软糯的年糕，只要三个步骤，小白也不会失败的配方 Baked ...\n",
      "2020-06-10    芝麻椒盐酥餅,（芝麻椒盐酥皮月饼），两招教会你做各种各样的酥皮类甜点，初学者一看就会 Cri...\n",
      "2021-09-18    自制腌咸鸡蛋，无需白酒也能腌出100%的个个翻沙流油的咸鸡蛋，方法超级简单，只需三个步骤，一...\n",
      "2020-12-11          甜菜这样做最好吃，没有土腥味，大人小孩都喜歡吃的美味烤甜菜 Roasted Beets\n",
      "2020-09-07    网红人气零食——红枣夹核桃仁，不用去买，自己动手做更放心、更好吃，做法非常简单一看就会 ｜J...\n",
      "2020-06-18    Tiramisu Easy Recipe｜How to make an eggless Ti...\n",
      "2021-03-05    小米粥最养胃、最好喝的做法，胃酸过多连喝一周就好了，小米和水的比例，用冷水还是热水煮粥？哪个...\n",
      "2020-12-08        一碗驱寒羊肉面吃到流汗，暖胃又暖身，宁夏臊子面的家常做法｜Lamb Noodle Soup\n",
      "2021-03-19    韭葱怎样做最好吃？韭葱配五花肉香气四溢 味道绝佳，超级下饭菜，五分钟搞定 | Leek wi...\n",
      "Name: video_title, dtype: object\n",
      "\n",
      "Middle 10:\n",
      "upload_date\n",
      "2020-12-02            DIY: Christmas Decoration Vase | 圣诞节玻璃瓶装饰\n",
      "2021-02-03    Roasted Chickpea Treats for Dog 自制狗狗训练健康小零食——烤...\n",
      "2021-12-02    酸汤水饺，如何做酸汤水饺的酸汤How to Make Sour Soup Dumplings...\n",
      "2021-04-04           我的部分美食菜谱合辑 Some of my Chinese food recipes\n",
      "2021-11-08    非洲紫罗兰摘片叶子插在土里就能活，一盆变多盆Propagating African Viol...\n",
      "2022-03-15    Fabulous 5 - Minutes Meal | Quick and Yummy Eg...\n",
      "2021-12-09    Perfect for breakfast! Make cinnamon roll cres...\n",
      "2021-01-23    上大学的儿子学会做饭后，第一次给家人做的风味独特的炒饭 | My college son’s...\n",
      "2021-02-13    #shorts 去除西瓜子皮的小妙招，一个小工具可以轻松搞定，喜欢吃西瓜子又怕伤牙齿的朋友不...\n",
      "2021-11-25    三文鱼排，不放一滴油就可以煎出外脆里嫩的三文鱼Very Juicy Salmon Steak...\n",
      "Name: video_title, dtype: object\n",
      "\n",
      "Bottom 10:\n",
      "upload_date\n",
      "2020-06-27                                     Pecan  Bar 減油減糖版\n",
      "2020-12-27    Aloe Vera Blooms During Christmas In My Garden...\n",
      "2020-06-13                      Crunchy fruit ice cream 香脆水果冰淇淋\n",
      "2020-06-02    芝麻烧饼，外壳酥脆 ，简单易做，新手一看就会 Very crispy and sweet n...\n",
      "2020-05-25        马齿苋最香吃法—培根炒马齿苋 Very Tasty Purslane with Bacon\n",
      "2020-05-14    想吃酸菜吗？超简单10分钟搞定比腌出来还好吃的酸菜——凉拌酸辣白菜（非常爽脆好吃、解馋下饭一...\n",
      "2020-05-10                    Pan Fried Salmon 香煎三文鱼外脆里嫩 ，十分钟搞定\n",
      "2020-05-29                              羽衣甘蓝脆片 Crisp Kale Chips\n",
      "2020-05-18    Easy Banana Muffin Lower Fat, Reduced Sugar 低糖...\n",
      "2020-05-23    Sausage  Broccoli  Egg Casserole 香肠鸡蛋西兰花 Casse...\n",
      "Name: video_title, dtype: object\n"
     ]
    }
   ],
   "source": [
    "df3=df.copy()\n",
    "df3=df3.sort_values('like_count', ascending=False)\n",
    "\n",
    "# top 10\n",
    "like_top10=df3.iloc[:10]\n",
    "like_top10_names=like_top10['video_title']\n",
    "\n",
    "# middle 10\n",
    "like_middle10=df3.iloc[62:72]\n",
    "like_middle10_names=like_middle10['video_title']\n",
    "\n",
    "# bottom 10\n",
    "like_bottom10=df3.iloc[-10:]\n",
    "like_bottom10_names=like_bottom10['video_title']\n",
    "\n",
    "like_order=f\"Top 10:\\n{like_top10_names}\\n\\nMiddle 10:\\n{like_middle10_names}\\n\\nBottom 10:\\n{like_bottom10_names}\"\n",
    "print(like_order)\n",
    "\n"
   ]
  },
  {
   "cell_type": "markdown",
   "id": "020ab7f1",
   "metadata": {},
   "source": [
    "### Conclusion:\n",
    "Now that the list of videos have been obtained, the next notebook will follow up on this."
   ]
  },
  {
   "cell_type": "code",
   "execution_count": null,
   "id": "329299e4",
   "metadata": {},
   "outputs": [],
   "source": []
  }
 ],
 "metadata": {
  "kernelspec": {
   "display_name": "Python 3 (ipykernel)",
   "language": "python",
   "name": "python3"
  },
  "language_info": {
   "codemirror_mode": {
    "name": "ipython",
    "version": 3
   },
   "file_extension": ".py",
   "mimetype": "text/x-python",
   "name": "python",
   "nbconvert_exporter": "python",
   "pygments_lexer": "ipython3",
   "version": "3.8.2"
  }
 },
 "nbformat": 4,
 "nbformat_minor": 5
}
